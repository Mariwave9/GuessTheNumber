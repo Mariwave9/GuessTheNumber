{
 "cells": [
  {
   "cell_type": "code",
   "execution_count": null,
   "metadata": {},
   "outputs": [],
   "source": [
    "############################ Guess the number ############################\n",
    "\n",
    "'''TASK: This project uses the random module in Python. The program will first randomly generate a\n",
    "number unknown to the user. The user needs to guess what that number is. (In other words, the\n",
    "user needs to be able to input information.) If the user’s guess is wrong, the program should\n",
    "return some sort of indication as to how wrong (e.g. The number is too high or too low). If the\n",
    "user guesses correctly, a positive indication should appear. You’ll need functions to check if the\n",
    "user input is an actual number, to see the difference between the inputted number and the\n",
    "randomly generated numbers, and to then compare the numbers.'''"
   ]
  },
  {
   "cell_type": "code",
   "execution_count": 1,
   "metadata": {},
   "outputs": [
    {
     "name": "stdout",
     "output_type": "stream",
     "text": [
      "Please, make sure you enter a number\n",
      "Please, provide a valid number (0-10)\n",
      "Please, make sure you enter a number\n",
      "The number is too low\n",
      "3 6\n",
      "The number is too low\n",
      "4 6\n",
      "The number is too high\n",
      "9 6\n",
      "Spot-on!\n",
      "6 6\n"
     ]
    }
   ],
   "source": [
    "import random #importing the random module to generate a number unknown to the user\n",
    "\n",
    "random_num = random.randint(0,10)\n",
    "\n",
    "while True:\n",
    "    try:\n",
    "        user = int(input(\"Please, try to guess the number in a range 0-10\")) #asking the user to guess the number\n",
    "    except:\n",
    "        print(\"Please, make sure you enter a number\")\n",
    "        continue\n",
    "    if user > 10:\n",
    "        print(\"Please, provide a valid number (0-10)\")\n",
    "        continue\n",
    "    elif user > random_num:\n",
    "        print(\"The number is too high\")\n",
    "        print(user, random_num)\n",
    "    elif user < random_num:\n",
    "        print(\"The number is too low\")\n",
    "        print(user, random_num)\n",
    "    else:\n",
    "        print(\"Spot-on!\")\n",
    "        print(user, random_num)\n",
    "        break"
   ]
  }
 ],
 "metadata": {
  "kernelspec": {
   "display_name": "base",
   "language": "python",
   "name": "python3"
  },
  "language_info": {
   "codemirror_mode": {
    "name": "ipython",
    "version": 3
   },
   "file_extension": ".py",
   "mimetype": "text/x-python",
   "name": "python",
   "nbconvert_exporter": "python",
   "pygments_lexer": "ipython3",
   "version": "3.8.8"
  },
  "orig_nbformat": 4,
  "vscode": {
   "interpreter": {
    "hash": "eff311ca2a4fe59b659b8a0d54ff4d98afa6fa933bb35d48bbf41121ea0fb99e"
   }
  }
 },
 "nbformat": 4,
 "nbformat_minor": 2
}
